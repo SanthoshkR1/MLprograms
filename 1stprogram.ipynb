{
 "cells": [
  {
   "cell_type": "code",
   "execution_count": 1,
   "id": "24dade9a-aef5-47b8-aa29-60f9556ee895",
   "metadata": {},
   "outputs": [
    {
     "name": "stdout",
     "output_type": "stream",
     "text": [
      "Original Dataset:\n",
      "\n",
      "    Age   Salary   Department Purchased\n",
      "0  25.0  50000.0        Sales       Yes\n",
      "1   NaN  60000.0  Engineering        No\n",
      "2  35.0      NaN           HR       Yes\n",
      "3  40.0  80000.0          NaN        No\n",
      "4  29.0  52000.0        Sales       Yes\n",
      "\n",
      "Processed Features (after handling missing values, encoding, and scaling):\n",
      "\n",
      "[[-1.41775817 -0.98950981  0.          0.          1.        ]\n",
      " [ 0.         -0.04711951  1.          0.          0.        ]\n",
      " [ 0.53777034  0.          0.          1.          0.        ]\n",
      " [ 1.5155346   1.83766107  0.          0.          1.        ]\n",
      " [-0.63554677 -0.80103175  0.          0.          1.        ]]\n",
      "\n",
      "Processed Feature Names:\n",
      "['Age', 'Salary', 'Department_Engineering', 'Department_HR', 'Department_Sales']\n"
     ]
    }
   ],
   "source": [
    "import pandas as pd\n",
    "import numpy as np\n",
    "from sklearn.impute import SimpleImputer\n",
    "from sklearn.preprocessing import OneHotEncoder, StandardScaler\n",
    "from sklearn.compose import ColumnTransformer\n",
    "from sklearn.pipeline import Pipeline\n",
    "\n",
    "# Sample dataset\n",
    "data = pd.DataFrame({\n",
    "    'Age': [25, np.nan, 35, 40, 29],\n",
    "    'Salary': [50000, 60000, np.nan, 80000, 52000],\n",
    "    'Department': ['Sales', 'Engineering', 'HR', np.nan, 'Sales'],\n",
    "    'Purchased': ['Yes', 'No', 'Yes', 'No', 'Yes']\n",
    "})\n",
    "\n",
    "# Display original dataset\n",
    "print(\"Original Dataset:\\n\")\n",
    "print(data)\n",
    "\n",
    "# Separate features and target\n",
    "X = data.drop('Purchased', axis=1)\n",
    "y = data['Purchased']\n",
    "\n",
    "# Identify numerical and categorical columns\n",
    "numerical_cols = X.select_dtypes(include=['int64', 'float64']).columns.tolist()\n",
    "categorical_cols = X.select_dtypes(include=['object']).columns.tolist()\n",
    "\n",
    "# Define preprocessing for numerical data (imputation + standardization)\n",
    "numerical_pipeline = Pipeline(steps=[\n",
    "    ('imputer', SimpleImputer(strategy='mean')),\n",
    "    ('scaler', StandardScaler())\n",
    "])\n",
    "\n",
    "# Define preprocessing for categorical data (imputation + one-hot encoding)\n",
    "categorical_pipeline = Pipeline(steps=[\n",
    "    ('imputer', SimpleImputer(strategy='most_frequent')),\n",
    "    ('encoder', OneHotEncoder(handle_unknown='ignore'))\n",
    "])\n",
    "\n",
    "# Combine preprocessing\n",
    "preprocessor = ColumnTransformer(transformers=[\n",
    "    ('num', numerical_pipeline, numerical_cols),\n",
    "    ('cat', categorical_pipeline, categorical_cols)\n",
    "])\n",
    "\n",
    "# Fit and transform the features\n",
    "X_processed = preprocessor.fit_transform(X)\n",
    "\n",
    "# Display processed features\n",
    "print(\"\\nProcessed Features (after handling missing values, encoding, and scaling):\\n\")\n",
    "print(X_processed.toarray() if hasattr(X_processed, \"toarray\") else X_processed)\n",
    "\n",
    "# Optionally, show the transformed feature names\n",
    "encoded_feature_names = preprocessor.named_transformers_['cat']['encoder'].get_feature_names_out(categorical_cols)\n",
    "all_feature_names = numerical_cols + encoded_feature_names.tolist()\n",
    "\n",
    "print(\"\\nProcessed Feature Names:\")\n",
    "print(all_feature_names)\n"
   ]
  },
  {
   "cell_type": "code",
   "execution_count": null,
   "id": "0da9e5a3-0c18-49d6-bd00-bb7a0eab55ed",
   "metadata": {},
   "outputs": [],
   "source": []
  }
 ],
 "metadata": {
  "kernelspec": {
   "display_name": "Python 3 (ipykernel)",
   "language": "python",
   "name": "python3"
  },
  "language_info": {
   "codemirror_mode": {
    "name": "ipython",
    "version": 3
   },
   "file_extension": ".py",
   "mimetype": "text/x-python",
   "name": "python",
   "nbconvert_exporter": "python",
   "pygments_lexer": "ipython3",
   "version": "3.12.6"
  }
 },
 "nbformat": 4,
 "nbformat_minor": 5
}
